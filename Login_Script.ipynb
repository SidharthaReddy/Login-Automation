{
 "cells": [
  {
   "cell_type": "code",
   "execution_count": null,
   "id": "e08ced87",
   "metadata": {},
   "outputs": [],
   "source": [
    "from twocaptcha import TwoCaptcha\n",
    "from selenium import webdriver\n",
    "from selenium.webdriver.support.ui import WebDriverWait\n",
    "from selenium.webdriver.support import expected_conditions as EC\n",
    "from selenium.webdriver.common.by import By\n",
    "from webdriver_manager.chrome import ChromeDriverManager\n",
    "APIKEY_2CAPTCHA = '2a14529c671b193fecb7447bf89aa000'\n",
    "solver = TwoCaptcha(APIKEY_2CAPTCHA, defaultTimeout = 200)\n",
    "url = 'https://blsspainmorocco.com/english/login.php'\n",
    "driver = webdriver.Chrome(executable_path=\"/Users/sidharthareddy/Desktop/chromedriver\")\n",
    "driver.get(url)\n",
    "driver.find_element(\"class name\", \"popupCloseIcon\").click()\n",
    "driver.implicitly_wait(5)\n",
    "driver.find_elements(By.CLASS_NAME, \"visaProcessItemBox\")[1].click()\n",
    "driver.implicitly_wait(5)\n",
    "driver.find_element(By.NAME, \"user_email\").send_keys(\"testartizenceselenium@gmail.com\")\n",
    "driver.find_element(By.NAME, \"user_password\").send_keys(\"tPBiZh3o\")\n",
    "data_sitekey = WebDriverWait(driver, 20).until(EC.element_to_be_clickable((By.CLASS_NAME, \"h-captcha\"))).get_attribute(\"data-sitekey\")\n",
    "result = solver.hcaptcha(sitekey=data_sitekey, url=url)\n",
    "code = result['code']\n",
    "driver.implicitly_wait(5)\n",
    "driver.execute_script(\"document.querySelector(\" + \"'\" + '[name=\"h-captcha-response\"]' + \"'\" + \").innerHTML = \" + \"'\" + code + \"'\")\n",
    "driver.find_element(By.CSS_SELECTOR, \"#al_login > div > div:nth-child(4) > input\").click()\n",
    "driver.implicitly_wait(5)\n",
    "driver.find_element(\"class name\", \"popup-appCloseIcon\").click()\n",
    "driver.implicitly_wait(5)\n",
    "driver.find_element(By.XPATH, '/html/body/div[3]/form/section/div/div/div[2]/div[2]/div[3]/div[2]/select/option[2]').click()\n",
    "driver.implicitly_wait(5)\n",
    "driver.find_element(By.CSS_SELECTOR, \"#slideup_div > div.col-sm-8.container.blueBG.paddingInBoxExtra.roundCornerExtra.white > div.col-sm-7.container > div:nth-child(3) > div.col-sm-6 > div.popupCenterNext > div > div.close\").click()\n",
    "driver.implicitly_wait(5)\n",
    "driver.find_element(By.XPATH, '/html/body/div[3]/form/section/div/div/div[2]/div[2]/div[5]/div[2]/select/option[2]').click()\n",
    "driver.implicitly_wait(5)\n",
    "driver.find_element(\"id\",'verification_code').click()\n",
    "driver.find_element(\"xpath\",'//*[@id=\"IDBodyPanelapp\"]/div[1]').click()\n",
    "driver.get(\"https://mail.google.com\")\n",
    "driver.find_element(\"id\",'identifierId').send_keys(\"testartizenceselenium@gmail.com\")\n",
    "driver.find_element(\"xpath\",'//*[@id=\"identifierNext\"]/div/button/span').click()\n",
    "driver.implicitly_wait(5)\n",
    "driver.find_element(\"name\",'Passwd').send_keys(\"1ArtizenceSelenium**\")\n",
    "driver.find_element(\"xpath\",'//*[@id=\"passwordNext\"]/div/button/span').click()\n",
    "driver.implicitly_wait(5)\n",
    "driver.find_element(\"id\",':24').click()\n",
    "driver.implicitly_wait(5)\n",
    "driver.find_element(\"link text\",'Click here to view your verification code').click()\n",
    "c_handle = driver.window_handles[0]\n",
    "n_handle = driver.window_handles[1]\n",
    "driver.switch_to.window(n_handle)\n",
    "driver.find_element(\"name\",'email').send_keys(\"testartizenceselenium@gmail.com\")\n",
    "driver.find_element(\"name\",'Submit').click()\n",
    "otp = driver.find_element(\"xpath\",'/html/body/div[2]').text[-4:]\n",
    "driver.switch_to.window(c_handle)"
   ]
  }
 ],
 "metadata": {
  "kernelspec": {
   "display_name": "Python 3 (ipykernel)",
   "language": "python",
   "name": "python3"
  },
  "language_info": {
   "codemirror_mode": {
    "name": "ipython",
    "version": 3
   },
   "file_extension": ".py",
   "mimetype": "text/x-python",
   "name": "python",
   "nbconvert_exporter": "python",
   "pygments_lexer": "ipython3",
   "version": "3.8.6"
  }
 },
 "nbformat": 4,
 "nbformat_minor": 5
}
