{
 "cells": [
  {
   "cell_type": "code",
   "execution_count": 253,
   "id": "3cf5860a",
   "metadata": {},
   "outputs": [],
   "source": [
    "from twocaptcha import TwoCaptcha\n",
    "from selenium import webdriver\n",
    "from selenium.webdriver.support.ui import WebDriverWait\n",
    "from selenium.webdriver.support import expected_conditions as EC\n",
    "from selenium.webdriver.common.by import By\n",
    "from webdriver_manager.chrome import ChromeDriverManager\n",
    "APIKEY_2CAPTCHA = '599a7c15170b7c96995f2c9dcba1b189'\n",
    "solver = TwoCaptcha(APIKEY_2CAPTCHA, defaultTimeout = 200)\n",
    "url = 'https://blsspainmorocco.com/english/login.php'"
   ]
  },
  {
   "cell_type": "code",
   "execution_count": 254,
   "id": "c898d6ae",
   "metadata": {},
   "outputs": [
    {
     "name": "stderr",
     "output_type": "stream",
     "text": [
      "/var/folders/hj/dpg6mk7s4kj2gk61_5wd45j40000gn/T/ipykernel_8708/2058615227.py:1: DeprecationWarning: executable_path has been deprecated, please pass in a Service object\n",
      "  driver = webdriver.Chrome(executable_path=\"/Users/sidharthareddy/Desktop/chromedriver\")\n"
     ]
    }
   ],
   "source": [
    "driver = webdriver.Chrome(executable_path=\"/Users/sidharthareddy/Desktop/chromedriver\")\n",
    "driver.get(url)"
   ]
  },
  {
   "cell_type": "code",
   "execution_count": 255,
   "id": "6099cd76",
   "metadata": {
    "collapsed": true
   },
   "outputs": [
    {
     "ename": "NoSuchElementException",
     "evalue": "Message: no such element: Unable to locate element: {\"method\":\"css selector\",\"selector\":\".popupCloseIcon\"}\n  (Session info: chrome=108.0.5359.124)\nStacktrace:\n0   chromedriver                        0x00000001048afb7c chromedriver + 4209532\n1   chromedriver                        0x000000010483b418 chromedriver + 3732504\n2   chromedriver                        0x00000001044ee368 chromedriver + 271208\n3   chromedriver                        0x0000000104529fc8 chromedriver + 516040\n4   chromedriver                        0x0000000104561804 chromedriver + 743428\n5   chromedriver                        0x000000010451c59c chromedriver + 460188\n6   chromedriver                        0x000000010451d644 chromedriver + 464452\n7   chromedriver                        0x000000010488130c chromedriver + 4018956\n8   chromedriver                        0x0000000104884fd8 chromedriver + 4034520\n9   chromedriver                        0x000000010488b11c chromedriver + 4059420\n10  chromedriver                        0x0000000104885bac chromedriver + 4037548\n11  chromedriver                        0x000000010485fbb0 chromedriver + 3881904\n12  chromedriver                        0x00000001048a2120 chromedriver + 4153632\n13  chromedriver                        0x00000001048a2274 chromedriver + 4153972\n14  chromedriver                        0x00000001048b682c chromedriver + 4237356\n15  libsystem_pthread.dylib             0x000000018522c26c _pthread_start + 148\n16  libsystem_pthread.dylib             0x000000018522708c thread_start + 8\n",
     "output_type": "error",
     "traceback": [
      "\u001b[0;31m---------------------------------------------------------------------------\u001b[0m",
      "\u001b[0;31mNoSuchElementException\u001b[0m                    Traceback (most recent call last)",
      "Cell \u001b[0;32mIn[255], line 1\u001b[0m\n\u001b[0;32m----> 1\u001b[0m \u001b[43mdriver\u001b[49m\u001b[38;5;241;43m.\u001b[39;49m\u001b[43mfind_element\u001b[49m\u001b[43m(\u001b[49m\u001b[38;5;124;43m\"\u001b[39;49m\u001b[38;5;124;43mclass name\u001b[39;49m\u001b[38;5;124;43m\"\u001b[39;49m\u001b[43m,\u001b[49m\u001b[43m \u001b[49m\u001b[38;5;124;43m\"\u001b[39;49m\u001b[38;5;124;43mpopupCloseIcon\u001b[39;49m\u001b[38;5;124;43m\"\u001b[39;49m\u001b[43m)\u001b[49m\u001b[38;5;241m.\u001b[39mclick()\n\u001b[1;32m      2\u001b[0m driver\u001b[38;5;241m.\u001b[39mimplicitly_wait(\u001b[38;5;241m5\u001b[39m)\n",
      "File \u001b[0;32m/opt/homebrew/Caskroom/miniforge/base/envs/test_opencv/lib/python3.8/site-packages/selenium/webdriver/remote/webdriver.py:861\u001b[0m, in \u001b[0;36mWebDriver.find_element\u001b[0;34m(self, by, value)\u001b[0m\n\u001b[1;32m    858\u001b[0m     by \u001b[38;5;241m=\u001b[39m By\u001b[38;5;241m.\u001b[39mCSS_SELECTOR\n\u001b[1;32m    859\u001b[0m     value \u001b[38;5;241m=\u001b[39m \u001b[38;5;124m'\u001b[39m\u001b[38;5;124m[name=\u001b[39m\u001b[38;5;124m\"\u001b[39m\u001b[38;5;132;01m%s\u001b[39;00m\u001b[38;5;124m\"\u001b[39m\u001b[38;5;124m]\u001b[39m\u001b[38;5;124m'\u001b[39m \u001b[38;5;241m%\u001b[39m value\n\u001b[0;32m--> 861\u001b[0m \u001b[38;5;28;01mreturn\u001b[39;00m \u001b[38;5;28;43mself\u001b[39;49m\u001b[38;5;241;43m.\u001b[39;49m\u001b[43mexecute\u001b[49m\u001b[43m(\u001b[49m\u001b[43mCommand\u001b[49m\u001b[38;5;241;43m.\u001b[39;49m\u001b[43mFIND_ELEMENT\u001b[49m\u001b[43m,\u001b[49m\u001b[43m \u001b[49m\u001b[43m{\u001b[49m\u001b[38;5;124;43m\"\u001b[39;49m\u001b[38;5;124;43musing\u001b[39;49m\u001b[38;5;124;43m\"\u001b[39;49m\u001b[43m:\u001b[49m\u001b[43m \u001b[49m\u001b[43mby\u001b[49m\u001b[43m,\u001b[49m\u001b[43m \u001b[49m\u001b[38;5;124;43m\"\u001b[39;49m\u001b[38;5;124;43mvalue\u001b[39;49m\u001b[38;5;124;43m\"\u001b[39;49m\u001b[43m:\u001b[49m\u001b[43m \u001b[49m\u001b[43mvalue\u001b[49m\u001b[43m}\u001b[49m\u001b[43m)\u001b[49m[\u001b[38;5;124m\"\u001b[39m\u001b[38;5;124mvalue\u001b[39m\u001b[38;5;124m\"\u001b[39m]\n",
      "File \u001b[0;32m/opt/homebrew/Caskroom/miniforge/base/envs/test_opencv/lib/python3.8/site-packages/selenium/webdriver/remote/webdriver.py:444\u001b[0m, in \u001b[0;36mWebDriver.execute\u001b[0;34m(self, driver_command, params)\u001b[0m\n\u001b[1;32m    442\u001b[0m response \u001b[38;5;241m=\u001b[39m \u001b[38;5;28mself\u001b[39m\u001b[38;5;241m.\u001b[39mcommand_executor\u001b[38;5;241m.\u001b[39mexecute(driver_command, params)\n\u001b[1;32m    443\u001b[0m \u001b[38;5;28;01mif\u001b[39;00m response:\n\u001b[0;32m--> 444\u001b[0m     \u001b[38;5;28;43mself\u001b[39;49m\u001b[38;5;241;43m.\u001b[39;49m\u001b[43merror_handler\u001b[49m\u001b[38;5;241;43m.\u001b[39;49m\u001b[43mcheck_response\u001b[49m\u001b[43m(\u001b[49m\u001b[43mresponse\u001b[49m\u001b[43m)\u001b[49m\n\u001b[1;32m    445\u001b[0m     response[\u001b[38;5;124m\"\u001b[39m\u001b[38;5;124mvalue\u001b[39m\u001b[38;5;124m\"\u001b[39m] \u001b[38;5;241m=\u001b[39m \u001b[38;5;28mself\u001b[39m\u001b[38;5;241m.\u001b[39m_unwrap_value(response\u001b[38;5;241m.\u001b[39mget(\u001b[38;5;124m\"\u001b[39m\u001b[38;5;124mvalue\u001b[39m\u001b[38;5;124m\"\u001b[39m, \u001b[38;5;28;01mNone\u001b[39;00m))\n\u001b[1;32m    446\u001b[0m     \u001b[38;5;28;01mreturn\u001b[39;00m response\n",
      "File \u001b[0;32m/opt/homebrew/Caskroom/miniforge/base/envs/test_opencv/lib/python3.8/site-packages/selenium/webdriver/remote/errorhandler.py:249\u001b[0m, in \u001b[0;36mErrorHandler.check_response\u001b[0;34m(self, response)\u001b[0m\n\u001b[1;32m    247\u001b[0m         alert_text \u001b[38;5;241m=\u001b[39m value[\u001b[38;5;124m\"\u001b[39m\u001b[38;5;124malert\u001b[39m\u001b[38;5;124m\"\u001b[39m]\u001b[38;5;241m.\u001b[39mget(\u001b[38;5;124m\"\u001b[39m\u001b[38;5;124mtext\u001b[39m\u001b[38;5;124m\"\u001b[39m)\n\u001b[1;32m    248\u001b[0m     \u001b[38;5;28;01mraise\u001b[39;00m exception_class(message, screen, stacktrace, alert_text)  \u001b[38;5;66;03m# type: ignore[call-arg]  # mypy is not smart enough here\u001b[39;00m\n\u001b[0;32m--> 249\u001b[0m \u001b[38;5;28;01mraise\u001b[39;00m exception_class(message, screen, stacktrace)\n",
      "\u001b[0;31mNoSuchElementException\u001b[0m: Message: no such element: Unable to locate element: {\"method\":\"css selector\",\"selector\":\".popupCloseIcon\"}\n  (Session info: chrome=108.0.5359.124)\nStacktrace:\n0   chromedriver                        0x00000001048afb7c chromedriver + 4209532\n1   chromedriver                        0x000000010483b418 chromedriver + 3732504\n2   chromedriver                        0x00000001044ee368 chromedriver + 271208\n3   chromedriver                        0x0000000104529fc8 chromedriver + 516040\n4   chromedriver                        0x0000000104561804 chromedriver + 743428\n5   chromedriver                        0x000000010451c59c chromedriver + 460188\n6   chromedriver                        0x000000010451d644 chromedriver + 464452\n7   chromedriver                        0x000000010488130c chromedriver + 4018956\n8   chromedriver                        0x0000000104884fd8 chromedriver + 4034520\n9   chromedriver                        0x000000010488b11c chromedriver + 4059420\n10  chromedriver                        0x0000000104885bac chromedriver + 4037548\n11  chromedriver                        0x000000010485fbb0 chromedriver + 3881904\n12  chromedriver                        0x00000001048a2120 chromedriver + 4153632\n13  chromedriver                        0x00000001048a2274 chromedriver + 4153972\n14  chromedriver                        0x00000001048b682c chromedriver + 4237356\n15  libsystem_pthread.dylib             0x000000018522c26c _pthread_start + 148\n16  libsystem_pthread.dylib             0x000000018522708c thread_start + 8\n"
     ]
    }
   ],
   "source": [
    "driver.find_element(\"class name\", \"popupCloseIcon\").click()\n",
    "driver.implicitly_wait(5)"
   ]
  },
  {
   "cell_type": "code",
   "execution_count": null,
   "id": "6573c424",
   "metadata": {},
   "outputs": [],
   "source": [
    "driver.find_elements(By.CLASS_NAME, \"visaProcessItemBox\")[1].click()\n",
    "driver.implicitly_wait(5)"
   ]
  },
  {
   "cell_type": "code",
   "execution_count": null,
   "id": "ae58b735",
   "metadata": {},
   "outputs": [],
   "source": [
    "driver.find_element(By.NAME, \"user_email\").send_keys(\"testartizenceselenium@gmail.com\")\n",
    "driver.find_element(By.NAME, \"user_password\").send_keys(\"tPBiZh3o\")"
   ]
  },
  {
   "cell_type": "code",
   "execution_count": null,
   "id": "e34a0eae",
   "metadata": {},
   "outputs": [],
   "source": [
    "data_sitekey = WebDriverWait(driver, 20).until(EC.element_to_be_clickable((By.CLASS_NAME, \"h-captcha\"))).get_attribute(\"data-sitekey\")\n",
    "result = solver.hcaptcha(sitekey=\"748d19a1-f537-4b8b-baef-281f70714f56\", url=url)\n",
    "code = result['code']\n",
    "driver.implicitly_wait(5)"
   ]
  },
  {
   "cell_type": "code",
   "execution_count": null,
   "id": "baa6680e",
   "metadata": {},
   "outputs": [],
   "source": [
    "#driver.execute_script(\"document.querySelector(\" + \"'\" + '[name=\"h-captcha-response\"]' + \"'\" + \").innerHTML = \" + \"'\" + code + \"'\")\n",
    "driver.find_element(By.CSS_SELECTOR, \"#al_login > div > div:nth-child(4) > input\").click()\n",
    "driver.implicitly_wait(5)"
   ]
  },
  {
   "cell_type": "code",
   "execution_count": null,
   "id": "a1fff236",
   "metadata": {},
   "outputs": [],
   "source": [
    "driver.find_element(\"class name\", \"popup-appCloseIcon\").click()\n",
    "driver.implicitly_wait(5)"
   ]
  },
  {
   "cell_type": "code",
   "execution_count": null,
   "id": "355a8430",
   "metadata": {},
   "outputs": [],
   "source": [
    "driver.find_element(By.XPATH, '/html/body/div[3]/form/section/div/div/div[2]/div[2]/div[3]/div[2]/select/option[2]').click()"
   ]
  },
  {
   "cell_type": "code",
   "execution_count": null,
   "id": "582375fd",
   "metadata": {},
   "outputs": [],
   "source": [
    "#problem\n",
    "#driver.implicitly_wait(5)\n",
    "driver.find_element(By.CSS_SELECTOR, \"#slideup_div > div.col-sm-8.container.blueBG.paddingInBoxExtra.roundCornerExtra.white > div.col-sm-7.container > div:nth-child(3) > div.col-sm-6 > div.popupCenterNext > div > div.close\").click()\n",
    "driver.implicitly_wait(5)"
   ]
  },
  {
   "cell_type": "code",
   "execution_count": null,
   "id": "2c31132a",
   "metadata": {},
   "outputs": [],
   "source": [
    "driver.find_element(By.XPATH, '/html/body/div[3]/form/section/div/div/div[2]/div[2]/div[5]/div[2]/select/option[2]').click()\n",
    "driver.implicitly_wait(5)"
   ]
  },
  {
   "cell_type": "code",
   "execution_count": null,
   "id": "be88f707",
   "metadata": {},
   "outputs": [],
   "source": [
    "driver.find_element(\"id\",'verification_code').click()"
   ]
  },
  {
   "cell_type": "code",
   "execution_count": null,
   "id": "68a5ab9f",
   "metadata": {},
   "outputs": [],
   "source": [
    "driver.find_element(\"xpath\",'//*[@id=\"IDBodyPanelapp\"]/div[1]').click()"
   ]
  },
  {
   "cell_type": "code",
   "execution_count": null,
   "id": "86c6fe41",
   "metadata": {},
   "outputs": [],
   "source": [
    "driver.execute_script(\"window.open('');\")\n",
    "n_handle = driver.window_handles[1]\n",
    "driver.switch_to.window(n_handle)\n",
    "driver.get(\"https://mail.google.com\")"
   ]
  },
  {
   "cell_type": "code",
   "execution_count": null,
   "id": "f72f7ac1",
   "metadata": {},
   "outputs": [],
   "source": [
    "driver.find_element(\"id\",'identifierId').send_keys(\"testartizenceselenium@gmail.com\")"
   ]
  },
  {
   "cell_type": "code",
   "execution_count": null,
   "id": "62ef5085",
   "metadata": {},
   "outputs": [],
   "source": [
    "driver.find_element(\"xpath\",'//*[@id=\"identifierNext\"]/div/button/span').click()\n",
    "driver.implicitly_wait(5)"
   ]
  },
  {
   "cell_type": "code",
   "execution_count": null,
   "id": "39cc9a56",
   "metadata": {},
   "outputs": [],
   "source": [
    "driver.find_element(\"name\",'Passwd').send_keys(\"1ArtizenceSelenium**\")"
   ]
  },
  {
   "cell_type": "code",
   "execution_count": null,
   "id": "6a9d6d27",
   "metadata": {},
   "outputs": [],
   "source": [
    "driver.find_element(\"xpath\",'//*[@id=\"passwordNext\"]/div/button/span').click()"
   ]
  },
  {
   "cell_type": "code",
   "execution_count": null,
   "id": "a64502d1",
   "metadata": {},
   "outputs": [],
   "source": [
    "#prblm\n",
    "driver.implicitly_wait(5)\n",
    "driver.find_element(\"xpath\",'//*[@id=\":2b\"]').click()"
   ]
  },
  {
   "cell_type": "code",
   "execution_count": null,
   "id": "d4ffe2c9",
   "metadata": {},
   "outputs": [],
   "source": [
    "driver.implicitly_wait(5)\n",
    "driver.find_element(\"link text\",'Click here to view your verification code').click()"
   ]
  },
  {
   "cell_type": "code",
   "execution_count": null,
   "id": "48813eb3",
   "metadata": {},
   "outputs": [],
   "source": [
    "#c_handle = driver.window_handles[0]\n",
    "driver.switch_to.window(driver.window_handles[2])\n",
    "driver.find_element(\"name\",'email').send_keys(\"testartizenceselenium@gmail.com\")\n",
    "driver.find_element(\"name\",'Submit').click()"
   ]
  },
  {
   "cell_type": "code",
   "execution_count": null,
   "id": "fe1e9dbb",
   "metadata": {},
   "outputs": [],
   "source": [
    "otp = driver.find_element(\"xpath\",'/html/body/div[2]').text"
   ]
  },
  {
   "cell_type": "code",
   "execution_count": null,
   "id": "279946af",
   "metadata": {},
   "outputs": [],
   "source": [
    "print(otp[-4:])"
   ]
  },
  {
   "cell_type": "code",
   "execution_count": null,
   "id": "86713523",
   "metadata": {},
   "outputs": [],
   "source": [
    "driver.switch_to.window(driver.window_handles[0])"
   ]
  },
  {
   "cell_type": "code",
   "execution_count": null,
   "id": "ab2f7e68",
   "metadata": {},
   "outputs": [],
   "source": [
    "driver.find_element(\"id\",'otp').send_keys(otp[-4:])"
   ]
  },
  {
   "cell_type": "code",
   "execution_count": null,
   "id": "18f7c0b1",
   "metadata": {},
   "outputs": [],
   "source": [
    "#should add working captcha solver"
   ]
  },
  {
   "cell_type": "code",
   "execution_count": null,
   "id": "bd1e9625",
   "metadata": {},
   "outputs": [],
   "source": [
    "driver.find_element(\"name\",'save').click()"
   ]
  },
  {
   "cell_type": "code",
   "execution_count": null,
   "id": "41d8a3d1",
   "metadata": {},
   "outputs": [],
   "source": [
    "driver.find_element(By.CLASS_NAME, \"popup-appCloseIcon\").click()"
   ]
  },
  {
   "cell_type": "code",
   "execution_count": null,
   "id": "2f7131d5",
   "metadata": {},
   "outputs": [],
   "source": [
    "driver.find_element(\"name\",'agree').click()"
   ]
  },
  {
   "cell_type": "code",
   "execution_count": null,
   "id": "5950d12e",
   "metadata": {},
   "outputs": [],
   "source": []
  }
 ],
 "metadata": {
  "kernelspec": {
   "display_name": "Python 3 (ipykernel)",
   "language": "python",
   "name": "python3"
  },
  "language_info": {
   "codemirror_mode": {
    "name": "ipython",
    "version": 3
   },
   "file_extension": ".py",
   "mimetype": "text/x-python",
   "name": "python",
   "nbconvert_exporter": "python",
   "pygments_lexer": "ipython3",
   "version": "3.8.6"
  }
 },
 "nbformat": 4,
 "nbformat_minor": 5
}
